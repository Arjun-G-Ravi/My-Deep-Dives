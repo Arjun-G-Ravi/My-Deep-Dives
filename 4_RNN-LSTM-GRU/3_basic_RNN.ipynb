{
 "cells": [
  {
   "cell_type": "markdown",
   "metadata": {},
   "source": [
    "# A Simple RNN inference "
   ]
  },
  {
   "cell_type": "markdown",
   "metadata": {},
   "source": [
    "![alt text](/home/arjun/Desktop/GitHub/My-Deep-Dives/4_RNN-LSTM-GRU/image-8.png)"
   ]
  },
  {
   "cell_type": "code",
   "execution_count": 1,
   "metadata": {},
   "outputs": [],
   "source": [
    "import torch\n",
    "import torch.nn as nn\n",
    "import torch.nn.functional as F\n",
    "from print_color import print"
   ]
  },
  {
   "cell_type": "code",
   "execution_count": 4,
   "metadata": {},
   "outputs": [],
   "source": [
    "X = [torch.randn(1, 512) for _ in range(10)] # Let these be the embeddings of the input\n",
    "U = torch.rand(512, 512)\n",
    "W = torch.rand(512, 512)\n",
    "V = torch.rand(512, 1024)\n",
    "h_prev = torch.randn(1, 512)"
   ]
  },
  {
   "cell_type": "code",
   "execution_count": 7,
   "metadata": {},
   "outputs": [
    {
     "name": "stdout",
     "output_type": "stream",
     "text": [
      "\u001b[92m725\u001b[0m\n",
      "\u001b[92mtensor([725])\u001b[0m\u001b[0m\n",
      "\u001b[92m725\u001b[0m\n",
      "\u001b[92mtensor([725])\u001b[0m\u001b[0m\n",
      "\u001b[92m725\u001b[0m\n",
      "\u001b[92mtensor([725])\u001b[0m\u001b[0m\n",
      "\u001b[92m725\u001b[0m\n",
      "\u001b[92mtensor([725])\u001b[0m\u001b[0m\n",
      "\u001b[92m0\u001b[0m\n",
      "\u001b[92mtensor([0])\u001b[0m\u001b[0m\n",
      "\u001b[92m0\u001b[0m\n",
      "\u001b[92mtensor([0])\u001b[0m\u001b[0m\n",
      "\u001b[92m0\u001b[0m\n",
      "\u001b[92mtensor([0])\u001b[0m\u001b[0m\n",
      "\u001b[92m0\u001b[0m\n",
      "\u001b[92mtensor([0])\u001b[0m\u001b[0m\n",
      "\u001b[92m0\u001b[0m\n",
      "\u001b[92mtensor([0])\u001b[0m\u001b[0m\n",
      "\u001b[92m0\u001b[0m\n",
      "\u001b[92mtensor([0])\u001b[0m\u001b[0m\n"
     ]
    }
   ],
   "source": [
    "for i in range(len(X)):\n",
    "    h_now = h_prev@U + X[i]@W\n",
    "    y = h_now@V\n",
    "    print(torch.argmax(y, dim=1).item(), color='g')\n",
    "    h_prev = h_now"
   ]
  },
  {
   "cell_type": "code",
   "execution_count": null,
   "metadata": {},
   "outputs": [],
   "source": []
  },
  {
   "cell_type": "code",
   "execution_count": null,
   "metadata": {},
   "outputs": [],
   "source": []
  },
  {
   "cell_type": "code",
   "execution_count": null,
   "metadata": {},
   "outputs": [],
   "source": []
  },
  {
   "cell_type": "code",
   "execution_count": null,
   "metadata": {},
   "outputs": [],
   "source": []
  }
 ],
 "metadata": {
  "kernelspec": {
   "display_name": "AI_ENV",
   "language": "python",
   "name": "python3"
  },
  "language_info": {
   "codemirror_mode": {
    "name": "ipython",
    "version": 3
   },
   "file_extension": ".py",
   "mimetype": "text/x-python",
   "name": "python",
   "nbconvert_exporter": "python",
   "pygments_lexer": "ipython3",
   "version": "3.10.12"
  }
 },
 "nbformat": 4,
 "nbformat_minor": 2
}
