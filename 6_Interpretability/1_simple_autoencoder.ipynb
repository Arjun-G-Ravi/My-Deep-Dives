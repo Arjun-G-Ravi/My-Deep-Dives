{
 "cells": [
  {
   "cell_type": "code",
   "execution_count": 1,
   "metadata": {},
   "outputs": [],
   "source": [
    "import torch\n",
    "import numpy as np\n",
    "import torch.nn as nn\n",
    "import matplotlib.pyplot as plt\n",
    "from torchvision import datasets, transforms\n",
    "import torch.optim as optim\n",
    "from torch.utils.data import DataLoader"
   ]
  },
  {
   "cell_type": "code",
   "execution_count": 2,
   "metadata": {},
   "outputs": [],
   "source": [
    "# Hyperparameters\n",
    "input_dim = 28 * 28  # MNIST images are 28x28\n",
    "hidden_dim = 256\n",
    "batch_size = 128\n",
    "learning_rate = 0.001\n",
    "num_epochs = 5"
   ]
  },
  {
   "cell_type": "code",
   "execution_count": 3,
   "metadata": {},
   "outputs": [],
   "source": [
    "transform = transforms.Compose([\n",
    "    transforms.ToTensor(),  # Convert to tensor\n",
    "    transforms.Normalize((0.5,), (0.5,)),  # Normalize with mean and std\n",
    "])\n",
    "\n",
    "train_dataset = datasets.MNIST(root='data', train=True, download=True, transform=transform)\n",
    "test_dataset = datasets.MNIST(root='data', train=False, download=True, transform=transform)\n",
    "\n",
    "train_loader = torch.utils.data.DataLoader(train_dataset, batch_size=batch_size, shuffle=True)\n",
    "test_loader = torch.utils.data.DataLoader(test_dataset, batch_size=batch_size, shuffle=False)"
   ]
  },
  {
   "cell_type": "code",
   "execution_count": 4,
   "metadata": {},
   "outputs": [
    {
     "data": {
      "text/plain": [
       "(469, 79, 60000)"
      ]
     },
     "execution_count": 4,
     "metadata": {},
     "output_type": "execute_result"
    }
   ],
   "source": [
    "len(train_loader), len(test_loader), len(train_dataset)"
   ]
  },
  {
   "cell_type": "code",
   "execution_count": 5,
   "metadata": {},
   "outputs": [],
   "source": [
    "class SparseEncoder(nn.Module):\n",
    "    def __init__(self, input_dim, hidden_dim):\n",
    "        super(SparseEncoder, self).__init__()\n",
    "        self.encoder = nn.Linear(input_dim, hidden_dim)\n",
    "        self.decoder = nn.Linear(hidden_dim, input_dim)\n",
    "\n",
    "    def forward(self, x):\n",
    "        x = self.encoder(x)\n",
    "        x = torch.relu(x)  # Activation function\n",
    "        x = self.decoder(x)\n",
    "        return x\n",
    "\n",
    "    def sparsity_loss(self, hidden_representation, sparsity_target=0.1):\n",
    "        # Calculate sparsity loss (L1 norm)\n",
    "        return torch.mean(torch.abs(hidden_representation)) - sparsity_target"
   ]
  },
  {
   "cell_type": "code",
   "execution_count": 6,
   "metadata": {},
   "outputs": [],
   "source": [
    "model = SparseEncoder(input_dim, hidden_dim).to('cuda')\n",
    "criterion = nn.MSELoss()\n",
    "optimizer = optim.Adam(model.parameters(), lr=learning_rate)"
   ]
  },
  {
   "cell_type": "code",
   "execution_count": 7,
   "metadata": {},
   "outputs": [
    {
     "name": "stdout",
     "output_type": "stream",
     "text": [
      "Epoch [1/5], Loss: 0.0922\n",
      "Epoch [2/5], Loss: 0.0722\n",
      "Epoch [3/5], Loss: 0.0572\n",
      "Epoch [4/5], Loss: 0.0304\n",
      "Epoch [5/5], Loss: 0.0217\n"
     ]
    }
   ],
   "source": [
    "# Training loop\n",
    "for epoch in range(num_epochs):\n",
    "    model.train()\n",
    "    total_loss = 0\n",
    "    for images, _ in train_loader:\n",
    "        images = images.view(-1, input_dim).to('cuda')  # Reshape to (batch_size, 784)\n",
    "        optimizer.zero_grad()\n",
    "        outputs = model(images)\n",
    "        loss = criterion(outputs, images).to('cuda')\n",
    "        sparsity = model.sparsity_loss(model.encoder(images))\n",
    "        total_loss = loss + sparsity\n",
    "        total_loss.backward()\n",
    "        optimizer.step()\n",
    "\n",
    "    print(f'Epoch [{epoch + 1}/{num_epochs}], Loss: {total_loss.item():.4f}')\n"
   ]
  },
  {
   "cell_type": "code",
   "execution_count": 8,
   "metadata": {},
   "outputs": [
    {
     "data": {
      "image/png": "[encoded data removed]",
      "text/plain": [
       "<Figure size 1000x500 with 10 Axes>"
      ]
     },
     "metadata": {},
     "output_type": "display_data"
    }
   ],
   "source": [
    "import matplotlib.pyplot as plt\n",
    "\n",
    "# Function to visualize original and reconstructed images\n",
    "def visualize_reconstructions(model, data_loader, num_images=5):\n",
    "    model.eval()  # Set the model to evaluation mode\n",
    "    images, _ = next(iter(data_loader))\n",
    "    \n",
    "    with torch.no_grad():  # Disable gradient calculation\n",
    "        images_flat = images.view(-1, input_dim).to('cuda')  # Flatten images\n",
    "        reconstructions = model(images_flat)  # Get reconstructed images\n",
    "\n",
    "    # Plotting\n",
    "    plt.figure(figsize=(10, 5))\n",
    "    for i in range(num_images):\n",
    "        # Original Image\n",
    "        plt.subplot(2, num_images, i + 1)\n",
    "        plt.imshow(images[i].squeeze(), cmap='gray')\n",
    "        plt.title('Original')\n",
    "        plt.axis('off')\n",
    "\n",
    "        # Reconstructed Image\n",
    "        plt.subplot(2, num_images, i + 1 + num_images)\n",
    "        plt.imshow(reconstructions[i].view(28, 28).cpu().numpy(), cmap='gray')  # Reshape for display\n",
    "        plt.title('Reconstructed')\n",
    "        plt.axis('off')\n",
    "\n",
    "    plt.show()\n",
    "\n",
    "# Visualize reconstructions\n",
    "visualize_reconstructions(model, train_loader, num_images=5)\n"
   ]
  },
  {
   "cell_type": "markdown",
   "metadata": {},
   "source": [
    "## Claude modified code"
   ]
  },
  {
   "cell_type": "code",
   "execution_count": 10,
   "metadata": {},
   "outputs": [
    {
     "name": "stdout",
     "output_type": "stream",
     "text": [
      "Epoch [1/5], Train Loss: 0.1283, Test Loss: 0.0552\n",
      "Epoch [2/5], Train Loss: 0.0642, Test Loss: 0.0401\n",
      "Epoch [3/5], Train Loss: 0.0530, Test Loss: 0.0371\n",
      "Epoch [4/5], Train Loss: 0.0483, Test Loss: 0.0334\n",
      "Epoch [5/5], Train Loss: 0.0475, Test Loss: 0.0330\n"
     ]
    },
    {
     "data": {
      "image/png": "[encoded data removed]",
      "text/plain": [
       "<Figure size 1000x500 with 10 Axes>"
      ]
     },
     "metadata": {},
     "output_type": "display_data"
    }
   ],
   "source": [
    "import torch\n",
    "import torch.nn as nn\n",
    "import torch.optim as optim\n",
    "from torchvision import datasets, transforms\n",
    "from torch.utils.data import DataLoader\n",
    "import matplotlib.pyplot as plt\n",
    "\n",
    "device = torch.device(\"cuda\" if torch.cuda.is_available() else \"cpu\")\n",
    "\n",
    "# Hyperparameters\n",
    "input_dim = 28 * 28\n",
    "hidden_dim = 256\n",
    "batch_size = 128\n",
    "learning_rate = 0.001\n",
    "num_epochs = 5\n",
    "sparsity_weight = 0.1\n",
    "\n",
    "# Data loading and preprocessing with augmentation\n",
    "transform = transforms.Compose([\n",
    "    transforms.RandomRotation(10),\n",
    "    transforms.ToTensor(),\n",
    "    transforms.Normalize((0.5,), (0.5,)),\n",
    "])\n",
    "\n",
    "train_dataset = datasets.MNIST(root='data', train=True, download=True, transform=transform)\n",
    "test_dataset = datasets.MNIST(root='data', train=False, download=True, transform=transforms.Compose([\n",
    "    transforms.ToTensor(),\n",
    "    transforms.Normalize((0.5,), (0.5,)),\n",
    "]))\n",
    "\n",
    "train_loader = DataLoader(train_dataset, batch_size=batch_size, shuffle=True)\n",
    "test_loader = DataLoader(test_dataset, batch_size=batch_size, shuffle=False)\n",
    "\n",
    "class SparseEncoder(nn.Module):\n",
    "    def __init__(self, input_dim, hidden_dim):\n",
    "        super(SparseEncoder, self).__init__()\n",
    "        self.encoder = nn.Linear(input_dim, hidden_dim)\n",
    "        self.decoder = nn.Linear(hidden_dim, input_dim)\n",
    "\n",
    "    def forward(self, x):\n",
    "        encoded = self.encoder(x)\n",
    "        activated = torch.relu(encoded)\n",
    "        decoded = self.decoder(activated)\n",
    "        return decoded, activated\n",
    "\n",
    "    def sparsity_loss(self, hidden_representation, sparsity_target=0.1):\n",
    "        return torch.mean(torch.abs(hidden_representation)) - sparsity_target\n",
    "\n",
    "model = SparseEncoder(input_dim, hidden_dim).to(device)\n",
    "criterion = nn.MSELoss()\n",
    "optimizer = optim.Adam(model.parameters(), lr=learning_rate)\n",
    "scheduler = optim.lr_scheduler.StepLR(optimizer, step_size=3, gamma=0.1)\n",
    "\n",
    "def train(model, train_loader, optimizer, criterion, device, sparsity_weight):\n",
    "    model.train()\n",
    "    total_loss = 0\n",
    "    for images, _ in train_loader:\n",
    "        images = images.view(-1, input_dim).to(device)\n",
    "        optimizer.zero_grad()\n",
    "        outputs, hidden = model(images)\n",
    "        reconstruction_loss = criterion(outputs, images)\n",
    "        sparsity_loss = model.sparsity_loss(hidden)\n",
    "        loss = reconstruction_loss + sparsity_weight * sparsity_loss\n",
    "        loss.backward()\n",
    "        optimizer.step()\n",
    "        total_loss += loss.item()\n",
    "    return total_loss / len(train_loader)\n",
    "\n",
    "def evaluate(model, test_loader, criterion, device):\n",
    "    model.eval()\n",
    "    total_loss = 0\n",
    "    with torch.no_grad():\n",
    "        for images, _ in test_loader:\n",
    "            images = images.view(-1, input_dim).to(device)\n",
    "            outputs, _ = model(images)\n",
    "            loss = criterion(outputs, images)\n",
    "            total_loss += loss.item()\n",
    "    return total_loss / len(test_loader)\n",
    "\n",
    "# Training loop\n",
    "for epoch in range(num_epochs):\n",
    "    train_loss = train(model, train_loader, optimizer, criterion, device, sparsity_weight)\n",
    "    test_loss = evaluate(model, test_loader, criterion, device)\n",
    "    scheduler.step()\n",
    "    print(f'Epoch [{epoch + 1}/{num_epochs}], Train Loss: {train_loss:.4f}, Test Loss: {test_loss:.4f}')\n",
    "\n",
    "def visualize_reconstructions(model, data_loader, num_images=5):\n",
    "    model.eval()\n",
    "    images, _ = next(iter(data_loader))\n",
    "    images = images.to(device)\n",
    "    \n",
    "    with torch.no_grad():\n",
    "        images_flat = images.view(-1, input_dim)\n",
    "        reconstructions, _ = model(images_flat)\n",
    "    \n",
    "    plt.figure(figsize=(10, 5))\n",
    "    for i in range(num_images):\n",
    "        plt.subplot(2, num_images, i + 1)\n",
    "        plt.imshow(images[i].cpu().squeeze(), cmap='gray')\n",
    "        plt.title('Original')\n",
    "        plt.axis('off')\n",
    "        \n",
    "        plt.subplot(2, num_images, i + 1 + num_images)\n",
    "        plt.imshow(reconstructions[i].view(28, 28).cpu(), cmap='gray')\n",
    "        plt.title('Reconstructed')\n",
    "        plt.axis('off')\n",
    "    plt.show()\n",
    "\n",
    "visualize_reconstructions(model, test_loader, num_images=5)"
   ]
  },
  {
   "cell_type": "code",
   "execution_count": null,
   "metadata": {},
   "outputs": [],
   "source": []
  },
  {
   "cell_type": "code",
   "execution_count": null,
   "metadata": {},
   "outputs": [],
   "source": []
  },
  {
   "cell_type": "code",
   "execution_count": null,
   "metadata": {},
   "outputs": [],
   "source": []
  }
 ],
 "metadata": {
  "kernelspec": {
   "display_name": "AI_ENV",
   "language": "python",
   "name": "python3"
  },
  "language_info": {
   "codemirror_mode": {
    "name": "ipython",
    "version": 3
   },
   "file_extension": ".py",
   "mimetype": "text/x-python",
   "name": "python",
   "nbconvert_exporter": "python",
   "pygments_lexer": "ipython3",
   "version": "3.10.12"
  }
 },
 "nbformat": 4,
 "nbformat_minor": 2
}
